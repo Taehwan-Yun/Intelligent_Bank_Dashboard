{
 "cells": [
  {
   "cell_type": "markdown",
   "id": "18d02b78-674d-4817-af50-02d6b2bf62c6",
   "metadata": {},
   "source": [
    "-----"
   ]
  },
  {
   "cell_type": "markdown",
   "id": "1eebec9c-472d-4692-bcfb-c6627b9ce6d7",
   "metadata": {},
   "source": [
    "## **패키지 불러오기**"
   ]
  },
  {
   "cell_type": "markdown",
   "id": "7739a1d1-2b15-4590-9b23-cfc9166443ed",
   "metadata": {},
   "source": [
    "---"
   ]
  },
  {
   "cell_type": "code",
   "execution_count": null,
   "id": "c6901b48-7ab3-4d1b-9176-07c6bd9bef90",
   "metadata": {
    "tags": []
   },
   "outputs": [],
   "source": [
    "import pandas as pd\n",
    "\n",
    "import dash\n",
    "import dash_core_components as dcc\n",
    "import dash_html_components as html\n",
    "from dash import dcc, html, Input, Output, State, dash_table\n",
    "import dash_bootstrap_components as dbc\n",
    "\n",
    "import plotly.express as px\n",
    "import plotly.graph_objs as go\n",
    "\n",
    "import matplotlib.pyplot as plt\n",
    "import seaborn as sns\n",
    "import matplotlib.patches as mpatches\n",
    "\n",
    "from datetime import datetime\n",
    "from dateutil.relativedelta import relativedelta\n",
    "\n",
    "import pickle\n",
    "\n",
    "plt.rcParams['font.family'] ='Malgun Gothic'\n",
    "plt.rcParams['axes.unicode_minus'] =False"
   ]
  },
  {
   "cell_type": "code",
   "execution_count": null,
   "id": "d788e595-351d-4219-9c07-6a49e44282f8",
   "metadata": {
    "tags": []
   },
   "outputs": [],
   "source": [
    "import re\n",
    "from wordcloud import WordCloud\n",
    "from konlpy.tag import Okt"
   ]
  },
  {
   "cell_type": "markdown",
   "id": "9b0e9899-1a87-4aab-86be-114bc1d23d64",
   "metadata": {},
   "source": [
    "----"
   ]
  },
  {
   "cell_type": "markdown",
   "id": "759afea0-bcfc-4ac7-9026-6a5ee9f59816",
   "metadata": {
    "tags": []
   },
   "source": [
    "## **뉴스 데이터 키워드 추출 (이미지 저장 후 미실행)**"
   ]
  },
  {
   "cell_type": "markdown",
   "id": "830f0c12-b6e7-48b8-9adb-5180ea52bc77",
   "metadata": {},
   "source": [
    "---"
   ]
  },
  {
   "cell_type": "markdown",
   "id": "04697311-bc0e-43fc-be8f-83ab93699bed",
   "metadata": {
    "tags": []
   },
   "source": [
    "### **뉴스 워드 클라우드**"
   ]
  },
  {
   "cell_type": "code",
   "execution_count": null,
   "id": "f0727c82-6931-4c48-b207-8fd43b03d191",
   "metadata": {
    "tags": []
   },
   "outputs": [],
   "source": [
    "# finance_df = pd.read_csv('금융_news_(2024-09-03~2024-12-02).csv', index_col = 0)\n",
    "# industry_df = pd.read_csv('산업_news_(2024-09-03~2024-12-02).csv', index_col = 0)\n",
    "# economy_df = pd.read_csv('경제_news_(2024-09-03~2024-12-02).csv', index_col = 0)"
   ]
  },
  {
   "cell_type": "code",
   "execution_count": null,
   "id": "ddebea1a-de82-4460-adf7-1ff1f945165d",
   "metadata": {
    "tags": []
   },
   "outputs": [],
   "source": [
    "# def clean_and_preprocess_text(x, stopwords):\n",
    "#     # 1. 공백 제거\n",
    "#     clean = x.replace('\\n', '')\n",
    "    \n",
    "#     # 2. 이메일 및 HTTP 링크 제거\n",
    "#     clean = re.sub(r'[a-zA-Z0-9._%+-]+@[a-zA-Z0-9.-]+\\.[a-zA-Z]{2,}', '', clean)\n",
    "#     clean = re.sub(r'http[s]?://\\S+', '', clean)\n",
    "    \n",
    "#     # 3. 명사 추출\n",
    "#     nouns = okt.nouns(clean)  # Okt를 사용하여 명사만 추출\n",
    "    \n",
    "#     # 4. 불용어 제거\n",
    "#     filtered_words = [word for word in nouns if word not in stopwords]\n",
    "    \n",
    "#     return ' '.join(filtered_words)"
   ]
  },
  {
   "cell_type": "code",
   "execution_count": null,
   "id": "e3e2028c-3b59-4700-8729-a08fc2b66691",
   "metadata": {
    "tags": []
   },
   "outputs": [],
   "source": [
    "# okt = Okt()\n",
    "\n",
    "# # 불용어 리스트 정의\n",
    "# stop_words_list = [\n",
    "#     '그리고', '그래서', '이것', '저것', '것', '하지만', '그', '의', '가', '를', '에', \n",
    "#     '와', '과', '에서', '으로', '이다', '수', '등', '있다', '것으로', '', '0', '통해', \n",
    "#     '있는', '위해', '지난', '기자', '및', '이', '말했다', '밝혔다', '위한', '1', '이후', '올해', '대한', '3분기', '등을', '최대', '연', '금융', '따르면', '이번', '관계자는', \n",
    "#     '중', '전', '했다', '같은', '대비', '다양한', '따라', '말', '국내', '3', '함께', '한', '이상', '있도록', '이날', '관련', '시', '경우', '서비스를', '주요' , '있다는', \n",
    "#     '지난달', '원', '고객', '은행', '최근', '더', '나온다', '총', '높은', '후', '금리를', '가장', '이어', '지난해', '설명했다', '내년', '김보형', '다른', '따른', '4', '상품을', '것은',\n",
    "#     '약', '때문이다', '또', '특히', '두', '9월', '아니라', '2', '기간', '만에', '대해', '때' ,'평균', '할', '올', '예정이다', '모두', '가운데', '하는', '5대', '이에' ,'큰', '것이다', '등의', '전체' ,'일부', '이를',\n",
    "#     '고', '위' , '로', '제공', '며', '달', '개', '율', '점', '날', '명', '사진', '것', '등이', '등으로', '있다', '은', '다만', '직접', '등에', '만큼', '새로운', '10월',\n",
    "#     '앞', '기능', '시작', '지원', '관계자', '기존', '전망', '예정', '규모', '사용', '또한', '대표', '운영', '기반', '회사', '행사', '때문', '라며', '출시',\n",
    "#     '설명', '데', '진행', '평가', '분야', '세계', '제품', '기술', '활용', '발표', '기준', '개발', '적용', '대상', '수준', '상황', '현재', '업계', '한국', '시장', '한경닷컴 뉴스룸', '포함', '브랜드', '예상', '산업', '강조', '중심', '지역', '내', '대상', '일본', '업계', \n",
    "#     '판매', '뒤', '참여', '상황', '일', '상품', '업체', '우리', '곳', '추가', '이용', '설명', '사업', '기업', '회사' ,\n",
    "#     '현지', '시간', '게', '비롯', '정도', '확대', '시스템', '국가', '과정', '향후', '전략', '소비자', '공개', '주', '성과', '경제', '추진', '해외', '문제', '도', '방식', '계획', '정책', '자체', '가능성', '도입', '지적', '다음', '우려', '유지', '영향', '건', '해당', '실제',\n",
    "#     '서비스', '관리', '계획', '발생', '영업', '당국', '성장', '영향', '수익', '정보', '확대', '한편', '적극', '실적', '데이터', '구매', '각각', '선', '처음', '사람', '마련', '활동', '제', '보고', '앞서', '모든', '결과', '정보', '바', '핵심', '최초', '고려', '경영', '발생', '안', '매장', '이유', '지금', '생각'\n",
    "# ]"
   ]
  },
  {
   "cell_type": "code",
   "execution_count": null,
   "id": "56abbaa5-473c-4628-8b67-435ba00d62d6",
   "metadata": {
    "tags": []
   },
   "outputs": [],
   "source": [
    "# cleaned_text_finance = finance_df['내용'].apply(lambda x: clean_and_preprocess_text(x, stop_words_list))\n",
    "\n",
    "# # 전체 텍스트 결합\n",
    "# final_text_finance = ' '.join(cleaned_text_finance)\n",
    "\n",
    "# # 한글 워드 클라우드 생성\n",
    "# wc = WordCloud(\n",
    "#     font_path='malgun.ttf',  # 한글 폰트 경로\n",
    "#     background_color='white', \n",
    "#     width=800, \n",
    "#     height=600,\n",
    "#     max_words=50\n",
    "# ).generate(final_text_finance)\n",
    "\n",
    "# # 워드 클라우드 시각화\n",
    "# plt.figure(figsize=(15, 10))\n",
    "# plt.imshow(wc, interpolation='bilinear')  # 워드 클라우드 객체를 시각화\n",
    "# plt.axis('off')  # 눈금 삭제\n",
    "# plt.savefig('./assets/finance_wc.png', dpi=300, bbox_inches='tight')\n",
    "# plt.show()"
   ]
  },
  {
   "cell_type": "code",
   "execution_count": null,
   "id": "e479bcff-5557-4460-8671-17948d9356a8",
   "metadata": {
    "tags": []
   },
   "outputs": [],
   "source": [
    "# cleaned_text_industry = industry_df['내용'].apply(lambda x: clean_and_preprocess_text(x, stop_words_list))\n",
    "\n",
    "# # 전체 텍스트 결합\n",
    "# final_text_industry = ' '.join(cleaned_text_industry)\n",
    "\n",
    "# # 한글 워드 클라우드 생성\n",
    "# wc = WordCloud(\n",
    "#     font_path='malgun.ttf',  # 한글 폰트 경로\n",
    "#     background_color='white', \n",
    "#     width=800, \n",
    "#     height=600,\n",
    "#     max_words=50\n",
    "# ).generate(final_text_industry)\n",
    "\n",
    "# # 워드 클라우드 시각화\n",
    "# plt.figure(figsize=(15, 10))\n",
    "# plt.imshow(wc, interpolation='bilinear')  # 워드 클라우드 객체를 시각화\n",
    "# plt.axis('off')  # 눈금 삭제\n",
    "# plt.savefig('./assets/industry_wc.png', dpi=300, bbox_inches='tight')\n",
    "# plt.show()"
   ]
  },
  {
   "cell_type": "code",
   "execution_count": null,
   "id": "46dd2158-887a-45b7-aef6-41d09d4cdb41",
   "metadata": {
    "tags": []
   },
   "outputs": [],
   "source": [
    "# def clean_and_preprocess_text(x, stopwords):\n",
    "#     # 1. 공백 제거\n",
    "#     clean = str(x).replace('\\n', '')\n",
    "    \n",
    "#     # 2. 이메일 및 HTTP 링크 제거\n",
    "#     clean = re.sub(r'[a-zA-Z0-9._%+-]+@[a-zA-Z0-9.-]+\\.[a-zA-Z]{2,}', '', clean)\n",
    "#     clean = re.sub(r'http[s]?://\\S+', '', clean)\n",
    "    \n",
    "#     # 3. 명사 추출\n",
    "#     nouns = okt.nouns(clean)  # Okt를 사용하여 명사만 추출\n",
    "    \n",
    "#     # 4. 불용어 제거\n",
    "#     filtered_words = [word for word in nouns if word not in stopwords]\n",
    "    \n",
    "#     return ' '.join(filtered_words)\n",
    "\n",
    "# cleaned_text_economy = economy_df['내용'].apply(lambda x: clean_and_preprocess_text(x, stop_words_list))\n",
    "\n",
    "# # 전체 텍스트 결합\n",
    "# final_text_economy = ' '.join(cleaned_text_economy)\n",
    "\n",
    "# # 한글 워드 클라우드 생성\n",
    "# wc = WordCloud(\n",
    "#     font_path='malgun.ttf',  # 한글 폰트 경로\n",
    "#     background_color='white', \n",
    "#     width=800, \n",
    "#     height=600,\n",
    "#     max_words=50\n",
    "# ).generate(final_text_economy)\n",
    "\n",
    "# # 워드 클라우드 시각화\n",
    "# plt.figure(figsize=(15, 10))\n",
    "# plt.imshow(wc, interpolation='bilinear')  # 워드 클라우드 객체를 시각화\n",
    "# plt.axis('off')  # 눈금 삭제\n",
    "# plt.savefig('./assets/economy_wc.png', dpi=300, bbox_inches='tight')\n",
    "# plt.show()"
   ]
  },
  {
   "cell_type": "markdown",
   "id": "cc7fe4da-80ad-47d1-9063-a8c9b02ed31f",
   "metadata": {},
   "source": [
    "---"
   ]
  },
  {
   "cell_type": "markdown",
   "id": "4f83fb4f-7a8d-4df6-88ea-958ec26103a1",
   "metadata": {},
   "source": [
    "## **행원 Dashboard 개발**"
   ]
  },
  {
   "cell_type": "markdown",
   "id": "a69d530a-9854-4043-8fb8-3f57c40e5aa1",
   "metadata": {},
   "source": [
    "----"
   ]
  },
  {
   "cell_type": "markdown",
   "id": "5de162eb-39c6-473e-81cf-097f11946e64",
   "metadata": {},
   "source": [
    "### **데이터 불러오기 및 전처리**"
   ]
  },
  {
   "cell_type": "code",
   "execution_count": null,
   "id": "7c845b38-e6a8-4d61-a044-8ed4e6bafa7d",
   "metadata": {
    "tags": []
   },
   "outputs": [],
   "source": [
    "df_queue = pd.read_csv('Bank_Simulation_Queue.csv', index_col = 0)\n",
    "df_service = pd.read_csv('Bank_Simulation_Service.csv', index_col = 0)"
   ]
  },
  {
   "cell_type": "code",
   "execution_count": null,
   "id": "9709ca39-d42c-41b6-a2ad-f235b7e2f6f1",
   "metadata": {
    "tags": []
   },
   "outputs": [],
   "source": [
    "df_contract = pd.read_excel('Contract_Deposit.xlsx', index_col = 0)\n",
    "df_bank = pd.read_excel('Bank_Deposit.xlsx', index_col = 0)\n",
    "df_prime = pd.read_excel('Prime_Rate.xlsx', index_col = 0)\n",
    "df_tfidf = pd.read_csv('Bank_TFIDF.csv', index_col = 0).drop(columns = ['상품코드']).rename(columns = {'Deposit_Code':'상품코드'})"
   ]
  },
  {
   "cell_type": "code",
   "execution_count": null,
   "id": "7ce97474-9987-439a-814b-cf08b73345e8",
   "metadata": {
    "tags": []
   },
   "outputs": [],
   "source": [
    "# df_prime_sub = df_prime.copy().drop(columns = ['상품코드']).rename(columns = {'Deposit_Code':'상품코드'})[['상품명', '상품코드', '은행명', '우대금리조건여부', '최대우대금리']]\n",
    "df_prime_sub = df_prime.copy().drop(columns = ['상품코드']).rename(columns = {'Deposit_Code':'상품코드'})\n",
    "df_prime_sub.dropna(axis = 1, thresh = df_prime_sub.shape[0]/6, inplace = True)\n",
    "df_prime_sub = df_prime_sub[['상품명', '상품코드', '은행명', '최대우대금리']]\n",
    "\n",
    "df_bank_sub = df_bank.copy()\n",
    "df_bank_sub['Deposit_Code'] = df_bank_sub['상품코드'].astype(str) + df_bank_sub['상품일련번호'].astype(str)\n",
    "df_bank_sub = df_bank_sub.drop(columns = ['상품코드', '은행명', '상품명', '상품일련번호', '상품그룹코드']).rename(columns = {'Deposit_Code':'상품코드'})\n",
    "\n",
    "df_tfidf_join = pd.merge(df_prime_sub, df_tfidf.drop(columns = ['상품명']), on = '상품코드', how = 'inner')\n",
    "df_tfidf_join = pd.merge(df_tfidf_join, df_bank_sub, on = '상품코드', how = 'inner')\n",
    "df_tfidf_join.fillna('-', inplace = True)"
   ]
  },
  {
   "cell_type": "code",
   "execution_count": null,
   "id": "e43aeb51-e863-4210-ac98-84783ac5a012",
   "metadata": {
    "tags": []
   },
   "outputs": [],
   "source": [
    "df_contract['Contract_Date_dt'] = pd.to_datetime(df_contract['Contract_Date'])\n",
    "df_contract['Year'] = df_contract['Contract_Date_dt'].dt.year\n",
    "df_contract['Month'] = df_contract['Contract_Date_dt'].dt.month\n",
    "df_contract['Day'] = df_contract['Contract_Date_dt'].dt.day"
   ]
  },
  {
   "cell_type": "code",
   "execution_count": null,
   "id": "bc38b680-6813-4637-ae62-cec060a7c48a",
   "metadata": {
    "tags": []
   },
   "outputs": [],
   "source": [
    "df_bank['Deposit_Code'] = df_bank['상품코드'].astype(str) + df_bank['상품일련번호'].astype(str)\n",
    "df = pd.merge(df_contract, df_bank[['Deposit_Code', '상품명']], on='Deposit_Code', how='left')"
   ]
  },
  {
   "cell_type": "code",
   "execution_count": null,
   "id": "bbcb5768-5c3a-4835-87c5-66d9f3d5c235",
   "metadata": {},
   "outputs": [],
   "source": [
    "# Adding Age Group\n",
    "def age_group(age):\n",
    "    try:\n",
    "        return str(age // 10 * 10) + \"대\"\n",
    "    except:\n",
    "        # age 값이 없는 경우 처리\n",
    "        return \"미상\"\n",
    "\n",
    "df['연령대'] = df['Age'].apply(age_group)"
   ]
  },
  {
   "cell_type": "code",
   "execution_count": null,
   "id": "7c90caf4-1841-49ee-a794-32671cb84743",
   "metadata": {},
   "outputs": [],
   "source": [
    "# Adding Label\n",
    "def func_label(df):\n",
    "        \n",
    "    df['상품종류'] = '수시입출금'\n",
    "    # 예.적금\n",
    "    df.loc[df['상품명'].str.contains('예금', na=False), '상품종류'] = '예금'\n",
    "    df.loc[df['상품명'].str.contains('보증서담보대출', na=False), '상품종류'] = '예금'\n",
    "\n",
    "    \n",
    "    df.loc[df['상품명'].str.contains('적금', na=False), '상품종류'] = '적금'\n",
    "\n",
    "    #연금\n",
    "    df.loc[df['상품명'].str.contains('연금', na=False), '상품종류'] = '연금'\n",
    "    df.loc[df['상품명'].str.contains('퇴직', na=False), '상품종류'] = '연금'\n",
    "\n",
    "    #특수목적 통장 & 한정 타겟 판매 상품\n",
    "    df.loc[df['상품명'].str.contains('취업', na=False), '상품종류'] = '특수목적'\n",
    "    df.loc[df['상품명'].str.contains('대전', na=False), '상품종류'] = '특수목적'\n",
    "    df.loc[df['상품명'].str.contains('희망저축', na=False), '상품종류'] = '특수목적' \n",
    "    df.loc[df['상품명'].str.contains('미래행복통장', na=False), '상품종류'] = '특수목적' #북한 이주민 대상 \n",
    "    df.loc[df['상품명'].str.contains('장병', na=False), '상품종류'] = '특수목적' # \n",
    "    df.loc[df['상품명'].str.contains('청년', na=False), '상품종류'] = '특수목적'\n",
    "    df.loc[df['상품명'].str.contains('주택청약', na=False), '상품종류'] = '특수목적' \n",
    "    df.loc[df['상품명'].str.contains('함께하는 사랑 통장', na=False), '상품종류'] = '특수목적'  # 소외계층\n",
    "    df.loc[df['상품명'].str.contains('영하나플러스 통장', na=False), '상품종류'] = '특수목적'     # 어린 사람 대상\n",
    "    df.loc[df['상품명'].str.contains('Easy-One Pack(이지원 팩) 통장', na=False, regex=False), '상품종류'] = '특수목적'  # 외국인 대상\n",
    "    df.loc[df['상품명'].str.contains('건설하나로 통장', na=False), '상품종류'] = '특수목적' # 건설근로자 대상 \n",
    "    df.loc[df['상품명'].str.contains('하도급협력대금 통장', na=False), '상품종류'] = '특수목적' # 건설근로자 대상 \n",
    "    df.loc[df['상품명'].str.contains('행복나눔 통장', na=False), '상품종류'] = '특수목적' # 후원금\n",
    "    df.loc[df['상품명'].str.contains('하나 행복지킴이 통장', na=False), '상품종류'] = '특수목적'\n",
    "    df.loc[df['상품명'].str.contains('하나 희망지킴이 통장', na=False), '상품종류'] = '특수목적'\n",
    "\n",
    "    # 기타\n",
    "    df.loc[df['상품명'].str.contains('표지어음', na=False), '상품종류'] = '기타'\n",
    "    df.loc[df['상품명'].str.contains('양도성예금증서', na=False), '상품종류'] = '기타'\n",
    "    df.loc[df['상품명'].str.contains('당좌예금', na=False), '상품종류'] = '기타'\n",
    "    df.loc[df['상품명'].str.contains('가계당좌예금', na=False), '상품종류'] = '기타'\n",
    "\n",
    "    # 사업자 Label\n",
    "    df.loc[df['상품명'].str.contains('사업자 주거래 우대통장', na=False), '상품종류'] = '사업자'\n",
    "    df.loc[df['상품명'].str.contains('하나 부가가치세 매입자 납부전용계좌', na=False), '상품종류'] = '사업자'\n",
    "\n",
    "\n",
    "    # 수시입출금 Label\n",
    "    df.loc[df['상품명'].str.contains('주거래하나 통장', na=False), '상품종류'] = '수시입출금'\n",
    "    df.loc[df['상품명'].str.contains('하나 플러스 통장', na=False), '상품종류'] = '수시입출금'\n",
    "    df.loc[df['상품명'].str.contains('급여하나 통장', na=False), '상품종류'] = '수시입출금'\n",
    "    df.loc[df['상품명'].str.contains('빅팟(BIG POT) 통장', na=False, regex=False), '상품종류'] = '수시입출금'\n",
    "    df.loc[df['상품명'].str.contains('증권저축계좌', na=False), '상품종류'] = '수시입출금'\n",
    "    \n",
    "    return df\n",
    "\n",
    "df = func_label(df)"
   ]
  },
  {
   "cell_type": "markdown",
   "id": "030e89ca-af6c-4f23-97c8-ddec1a4da367",
   "metadata": {},
   "source": [
    "---"
   ]
  },
  {
   "cell_type": "markdown",
   "id": "d8bbd9a5-804b-4558-bdde-b7b919fa39cf",
   "metadata": {},
   "source": [
    "### **요소 값 설정**"
   ]
  },
  {
   "cell_type": "code",
   "execution_count": null,
   "id": "2728331e-c004-46e2-8aaa-57a81d7085e5",
   "metadata": {
    "tags": []
   },
   "outputs": [],
   "source": [
    "# time_now = str(datetime.now())[:10]\n",
    "time_now = str(df_contract['Contract_Date_dt'].max())[:10]\n",
    "year_now = int(time_now[:4])\n",
    "month_now = int(time_now[5:7])"
   ]
  },
  {
   "cell_type": "code",
   "execution_count": null,
   "id": "f6203f36-5400-4cf3-84c2-83e6d6767253",
   "metadata": {
    "tags": []
   },
   "outputs": [],
   "source": [
    "df_contract_month = df_contract[(df_contract['Year'] == year_now) & (df_contract['Month'] == month_now)]\n",
    "num_contract_month = len(df_contract_month)"
   ]
  },
  {
   "cell_type": "code",
   "execution_count": null,
   "id": "07f32f2e-db49-4e19-81b3-aa72b2300a8e",
   "metadata": {
    "tags": []
   },
   "outputs": [],
   "source": [
    "df_queue['Arrival Date_dt'] = pd.to_datetime(df_queue['Arrival Date'])\n",
    "df_queue['Year'] = df_queue['Arrival Date_dt'].dt.year\n",
    "df_queue['Month'] = df_queue['Arrival Date_dt'].dt.month\n",
    "df_queue['Day'] = df_queue['Arrival Date_dt'].dt.day"
   ]
  },
  {
   "cell_type": "code",
   "execution_count": null,
   "id": "9f863b9e-fa85-4c04-8eca-1a8a9ddf85c1",
   "metadata": {
    "tags": []
   },
   "outputs": [],
   "source": [
    "df_queue_now = df_queue[(df_queue['Year'] == 2024) & (df_queue['Month'] == 11) & (df_queue['Day'] == 30)]"
   ]
  },
  {
   "cell_type": "code",
   "execution_count": null,
   "id": "0ee498f9-a9c3-4a1b-ba31-74f3669a9263",
   "metadata": {
    "tags": []
   },
   "outputs": [],
   "source": [
    "num_customer = len(df_queue)\n",
    "num_customer_now = len(df_queue_now)"
   ]
  },
  {
   "cell_type": "code",
   "execution_count": null,
   "id": "dc9902fd-e744-4157-a879-ae670a7a6d2c",
   "metadata": {
    "tags": []
   },
   "outputs": [],
   "source": [
    "mean_waiting = df_service['Waiting Duration'].mean()\n",
    "mean_service = df_service['Service Duration'].mean()"
   ]
  },
  {
   "cell_type": "code",
   "execution_count": null,
   "id": "e0d1fbbf-913f-4aea-9a54-997f475c0e19",
   "metadata": {},
   "outputs": [],
   "source": [
    "family_value = df_contract['Family'].unique().tolist()\n",
    "family_value.remove('미확인')\n",
    "column_li = df_tfidf.columns.tolist()\n",
    "column_li.remove('상품명')\n",
    "column_li.remove('상품코드')"
   ]
  },
  {
   "cell_type": "code",
   "execution_count": null,
   "id": "cbdc81b7-b473-4f35-ba99-7e5dfd4d5e3b",
   "metadata": {},
   "outputs": [],
   "source": [
    "# Options for dropdowns\n",
    "job_li = [{'label': i, 'value': i} for i in df['Job'].unique()]\n",
    "gender_li = [{'label': i, 'value': i} for i in df['Gender'].unique()]\n",
    "family_li = [{'label': i, 'value': i} for i in family_value]\n",
    "keyword_li = [{'label': i, 'value': i} for i in column_li]\n",
    "category_li = [{'label': i, 'value': i} for i in df['상품종류'].unique()]"
   ]
  },
  {
   "cell_type": "markdown",
   "id": "df36d498-4ec6-4fe5-8540-abe55e29d473",
   "metadata": {},
   "source": [
    "---"
   ]
  },
  {
   "cell_type": "markdown",
   "id": "c099a7e2-a203-4dd8-bd65-cdd3d92d3c53",
   "metadata": {
    "tags": []
   },
   "source": [
    "### **함수 정의**"
   ]
  },
  {
   "cell_type": "code",
   "execution_count": null,
   "id": "6141eb4d-6faf-4219-bf77-1f0e6aa02f81",
   "metadata": {
    "tags": []
   },
   "outputs": [],
   "source": [
    "# Helper function for horizontal card\n",
    "def create_horizontal_card(title, value, icon=\"😊\"):\n",
    "    return html.Div([\n",
    "        html.Div([\n",
    "            html.Img(src=f\"/assets/{icon}\", style={\"width\": \"70px\", \"height\": \"70px\", \"marginRight\": \"15px\"}),\n",
    "            html.Div([\n",
    "                html.Div(title, style={\"fontWeight\": \"bold\", \"fontSize\": \"16px\", \"color\": \"#797979\", \"textAlign\": \"right\"}),\n",
    "                html.Div(value, style={\"fontSize\": \"24px\", \"fontWeight\": \"bold\", \"color\": \"#212529\", \"textAlign\": \"right\"})\n",
    "            ], style={\"flex\": \"1\"})\n",
    "        ], style={\n",
    "            \"display\": \"flex\", \"alignItems\": \"center\", \"border\": \"3px solid #17a2b8\",\n",
    "            \"borderRadius\": \"15px\", \"padding\": \"10px 20px\", \"backgroundColor\": \"#ffffff\",\n",
    "            \"boxShadow\": \"0px 4px 6px rgba(0, 0, 0, 0.1)\"\n",
    "        })\n",
    "    ], style={\"width\": \"300px\", \"margin\": \"10px\"})"
   ]
  },
  {
   "cell_type": "markdown",
   "id": "baf72665-f702-40a5-adb8-b438b26cef04",
   "metadata": {},
   "source": [
    "---"
   ]
  },
  {
   "cell_type": "markdown",
   "id": "19fa97f8-9017-4964-a54a-e9459117d8a0",
   "metadata": {},
   "source": [
    "### **Dashbord 실행**"
   ]
  },
  {
   "cell_type": "code",
   "execution_count": null,
   "id": "6816ef59-2cdc-4ce1-9d94-b2808f1b2a7f",
   "metadata": {
    "tags": []
   },
   "outputs": [],
   "source": [
    "# Dash App Initialization\n",
    "app = dash.Dash(__name__, external_stylesheets=[dbc.themes.BOOTSTRAP])\n",
    "\n",
    "# style={\"fontFamily\": \"Segoe UI\", \"backgroundColor\": \"#f8f9fa\", \"padding\": \"20px\"}\n",
    "# Layout\n",
    "app.layout = html.Div(\n",
    "                      style={\"fontFamily\": \"Segoe UI\",\n",
    "                             \"backgroundColor\": \"#f8f9fa\",\n",
    "                             \"padding\": \"20px\",\n",
    "                             \"width\": \"2100px\",\n",
    "                             \"height\": \"2300px\",\n",
    "                             \"margin\": \"0 auto\",\n",
    "                             \"overflow\": \"hidden\"},\n",
    "    children=[\n",
    "    dcc.Store(id='filtered-data'),  # Store for filtered data\n",
    "    \n",
    "    # Header Section\n",
    "    html.Div([\n",
    "        html.H1(\"Bank Dashboard\", style={\"textAlign\": \"left\", \"fontWeight\": \"bold\", \"color\": \"#008485\", \"marginBottom\": \"10px\"}),\n",
    "        html.Div(f\"Date: {time_now}\", style={\"textAlign\": \"right\", \"fontWeight\": \"bold\", \"color\": \"#008485\", \"fontSize\": \"20px\"})\n",
    "    ], style={\"display\": \"flex\", \"justifyContent\": \"space-between\", \"alignItems\": \"center\", \"marginBottom\": \"20px\"}),\n",
    "\n",
    "    # Top metrics section\n",
    "    dbc.Row([\n",
    "        dbc.Col(html.Div(create_horizontal_card(\"누적 상품 계약 건수\", f\"{format(len(df_contract), ',')} 건\", 'money-deposit.png'), style={\"marginTop\": \"20px\"})),\n",
    "        dbc.Col(html.Div(create_horizontal_card(\"이번 달 상품 계약 건수\", f\"{format(num_contract_month, ',')} 건\", 'deposit.png'), style={\"marginTop\": \"20px\"})),\n",
    "        dbc.Col(html.Div(create_horizontal_card(\"이번 달 방문 고객수\", f\"{format(num_customer, ',')} 명\", 'customers.png'), style={\"marginTop\": \"20px\"})),\n",
    "        dbc.Col(html.Div(create_horizontal_card(\"오늘 방문 고객수\", f\"{format(num_customer_now, ',')} 명\", 'customer.png'), style={\"marginTop\": \"20px\"})),\n",
    "        dbc.Col(html.Div(create_horizontal_card(\"고객 평균 대기 시간\", f\"{mean_waiting:.2f} 분\", 'waiting.png'), style={\"marginTop\": \"20px\"})),\n",
    "        dbc.Col(html.Div(create_horizontal_card(\"고객 평균 응대 시간\", f\"{mean_service:.2f} 분\", 'counseling.png'), style={\"marginTop\": \"20px\"})),\n",
    "    ], style={\"marginBottom\": \"30px\"}),\n",
    "\n",
    "    # Filter Form Section\n",
    "    dbc.Row([\n",
    "        dbc.Col(html.Div([\n",
    "            \n",
    "            html.H5(\"고객 상품 계약 패턴 검색\", style={\"marginBottom\": \"20px\", \"fontWeight\": \"bold\", \"color\": \"#008485\"}),\n",
    "            \n",
    "            html.Label(\"이름\", style={\"fontWeight\": \"bold\", \"marginBottom\": \"10px\"}),\n",
    "            dcc.Input(type=\"text\", style={\"width\": \"100%\", \"marginBottom\": \"20px\", \"fontSize\": \"14px\", \"border\": \"1px solid #CBCBCB\", \"borderRadius\": \"8px\", \"height\":\"40px\"}),\n",
    "\n",
    "            html.Label(\"성별\", style={\"fontWeight\": \"bold\", \"marginBottom\": \"10px\"}),\n",
    "            dbc.RadioItems(id='gender', options=gender_li, inline=True, style={\"marginBottom\": \"10px\", \"fontSize\": \"14px\", \"marginBottom\": \"20px\"}, labelStyle={\"fontSize\": \"14px\"}),\n",
    "\n",
    "            html.Label(\"결혼\", style={\"fontWeight\": \"bold\", \"marginBottom\": \"10px\"}),\n",
    "            dbc.RadioItems(id='family', options=family_li, inline=True, style={\"marginBottom\": \"10px\", \"fontSize\": \"14px\", \"marginBottom\": \"20px\"}, labelStyle={\"fontSize\": \"14px\"}),\n",
    "\n",
    "            html.Label(\"연령\", style={\"fontWeight\": \"bold\", \"marginBottom\": \"10px\"}),\n",
    "            dcc.Input(id='age', type=\"number\", style={\"height\":\"40px\", \"width\": \"100%\", \"marginBottom\": \"10px\", \"fontSize\": \"14px\", \"marginBottom\": \"20px\", \"border\": \"1px solid #CBCBCB\", \"borderRadius\": \"8px\"}),\n",
    "\n",
    "            html.Label(\"직업\", style={\"fontWeight\": \"bold\", \"marginBottom\": \"10px\"}),\n",
    "            dcc.Dropdown(id='job', options=job_li, placeholder=\"직업을 선택하시오\", style={\"marginBottom\": \"10px\", \"fontSize\": \"14px\", \"marginBottom\": \"20px\", \"borderRadius\": \"8px\"}),\n",
    "            \n",
    "            html.Label(\"상품 종류\", style={\"fontWeight\": \"bold\", \"marginBottom\": \"10px\"}),\n",
    "            dcc.RadioItems(id='category', options=category_li, inline = False, style={\"marginBottom\": \"10px\", \"fontSize\": \"14px\", \"marginBottom\": \"50px\"},\n",
    "                           labelStyle={\"fontSize\": \"14px\", \"marginBottom\":\"15px\"}),\n",
    "\n",
    "            html.Div([\n",
    "                html.Button(\"검색\", id=\"filter-btn\", className=\"btn btn-primary\", style={\"width\": \"46%\", \"marginRight\": \"30px\", \"fontWeight\": \"bold\", \"border\": \"3px solid #008485\", \"backgroundColor\": \"#008485\"}),\n",
    "                html.Button(\"초기화\", id=\"reset-btn1\", className=\"btn btn-secondary\", style={\"width\": \"46%\", \"marginRight\": \"0px\", \"fontWeight\": \"bold\", \"border\": \"3px solid #757575\", \"backgroundColor\": \"#757575\"})\n",
    "            ], style={\"marginTop\": \"20px\"})\n",
    "        ], style={\"height\": \"921px\", \"border\": \"1px solid #d3d3d3\", \"borderRadius\": \"10px\", \"padding\": \"20px\", \"backgroundColor\": \"#ffffff\"}), style = {\"marginRight\": \"13px\"}, width=3),\n",
    "        \n",
    "        \n",
    "        \n",
    "        dbc.Col([dbc.Row([html.Div([\n",
    "            html.H5(\"상품 종류의 비율\", style={\"textAlign\": \"left\", \"marginBottom\": \"0px\", \"fontWeight\": \"bold\", \"fontSize\": \"20px\", \"color\": \"#008485\"}),\n",
    "            html.Div(id='chart-container-1', style={\"width\": \"100%\", \"height\": \"430px\", \"padding\": \"0\", \"backgroundColor\": \"rgba(0,0,0,0)\"})\n",
    "        ], style={\"marginBottom\": \"20px\", \"height\": \"450px\", \"border\": \"1px solid #d3d3d3\", \"borderRadius\": \"10px\", \"padding\": \"20px\", \"backgroundColor\": \"#ffffff\"})]),\n",
    "                 dbc.Row([html.Div([\n",
    "            html.H5(\"고객 포트폴리오 비교\", style={\"textAlign\": \"left\", \"marginBottom\": \"30px\", \"fontWeight\": \"bold\", \"fontSize\": \"20px\", \"color\": \"#008485\"}),\n",
    "            html.Img(src=f\"/assets/portfolio1.png\", style={\"width\": \"80%\", \"height\": \"80%\", \"borderRadius\": \"10px\", \"margin\": \"0 auto\", \"display\": \"block\"})\n",
    "        ], style={\"height\": \"450px\", \"border\": \"1px solid #d3d3d3\", \"borderRadius\": \"10px\", \"padding\": \"20px\", \"backgroundColor\": \"#ffffff\"})])], style = {\"marginRight\": \"20px\"}, width=3),\n",
    "\n",
    "        \n",
    "        dbc.Col([dbc.Row([html.Div([\n",
    "            html.H5(\"상품 종류에 따른 상품 계약 빈도수\", style={\"textAlign\": \"left\", \"marginBottom\": \"0px\", \"fontWeight\": \"bold\", \"fontSize\": \"20px\", \"color\": \"#008485\"}),\n",
    "            html.Div(id='chart-container-2', style={\"width\": \"100%\", \"height\": \"450px\", \"padding\": \"0\", \"backgroundColor\": \"rgba(0,0,0,0)\"})\n",
    "        ], style={\"marginBottom\": \"20px\", \"height\": \"450px\", \"border\": \"1px solid #d3d3d3\", \"borderRadius\": \"10px\", \"padding\": \"20px\", \"backgroundColor\": \"#ffffff\"})]),\n",
    "                 dbc.Row([html.Div([\n",
    "            html.H5(\"고객 설정 목표 달성율\", style={\"textAlign\": \"left\", \"marginBottom\": \"20px\", \"fontWeight\": \"bold\", \"fontSize\": \"20px\", \"color\": \"#008485\"}),\n",
    "            html.Img(src=f\"/assets/portfolio2.png\", style={\"width\": \"75%\", \"height\": \"90%\", \"borderRadius\": \"10px\", \"margin\": \"0 auto\", \"display\": \"block\"})\n",
    "        ], style={\"height\": \"450px\", \"border\": \"1px solid #d3d3d3\", \"borderRadius\": \"10px\", \"padding\": \"20px\", \"backgroundColor\": \"#ffffff\"})])], style = {\"marginRight\": \"15px\", \"flexBasis\": \"33.33%\"}),\n",
    "        \n",
    "    ], style={\"marginBottom\": \"30px\"}),\n",
    "    \n",
    "    \n",
    "\n",
    "    dbc.Row([\n",
    "        dbc.Col(html.Div([\n",
    "            html.H5(\"키워드 기반 상품 검색\", style={\"marginBottom\": \"20px\", \"fontWeight\": \"bold\", \"fontSize\": \"20px\", \"color\": \"#008485\"}),\n",
    "            html.Div([\n",
    "                html.Label(\"키워드 1\", style={\"fontSize\": \"16px\", \"fontWeight\": \"bold\", \"color\": \"#212529\", \"marginBottom\": \"10px\"}),\n",
    "                dcc.Dropdown(id=\"keyword1\", options=keyword_li, placeholder=\"키워드를 선택하세요.\", style={\"marginBottom\": \"20px\", \"fontSize\": \"14px\"}),\n",
    "                html.Label(\"키워드 2\", style={\"fontSize\": \"16px\", \"fontWeight\": \"bold\", \"color\": \"#212529\", \"marginBottom\": \"10px\"}),\n",
    "                dcc.Dropdown(id=\"keyword2\", options=keyword_li, placeholder=\"키워드를 선택하세요.\", style={\"marginBottom\": \"20px\", \"fontSize\": \"14px\"}),\n",
    "                html.Label(\"키워드 3\", style={\"fontSize\": \"16px\", \"fontWeight\": \"bold\", \"color\": \"#212529\", \"marginBottom\": \"10px\"}),\n",
    "                dcc.Dropdown(id=\"keyword3\", options=keyword_li, placeholder=\"키워드를 선택하세요.\", style={\"marginBottom\": \"20px\", \"fontSize\": \"14px\"})\n",
    "            ]),\n",
    "            html.Div([\n",
    "                html.Button(\"검색\", id=\"recommend-btn\", className=\"btn btn-primary\", \n",
    "                            style={\"width\": \"46%\", \"marginRight\": \"30px\", \"fontWeight\": \"bold\", \"border\": \"3px solid #008485\", \"backgroundColor\": \"#008485\"}),\n",
    "                html.Button(\"초기화\", id=\"reset-btn2\", className=\"btn btn-secondary\", \n",
    "                            style={\"width\": \"46%\", \"marginRight\": \"0px\", \"fontWeight\": \"bold\", \"border\": \"3px solid #757575\", \"backgroundColor\": \"#757575\"})\n",
    "            ], style={\"marginTop\": \"10px\"})\n",
    "        ], style={\"border\": \"1px solid #d3d3d3\", \"borderRadius\": \"10px\", \"padding\": \"20px\", \"backgroundColor\": \"#ffffff\", \"height\": \"400px\"}), width=3),\n",
    "        \n",
    "        # 결과 테이블 표시\n",
    "        dbc.Col(html.Div([\n",
    "            html.H5(\"상품 검색 결과\", style={\"textAlign\": \"left\", \"marginBottom\": \"15px\", \"fontWeight\": \"bold\", \"fontSize\": \"20px\", \"color\": \"#008485\"}),\n",
    "            html.Div(id=\"result-table\", style={\"padding\": \"0 0 0 0\", \"backgroundColor\": \"rgba(0,0,0,0)\"})\n",
    "        ], style={\"border\": \"1px solid #d3d3d3\", \"borderRadius\": \"10px\", \"padding\": \"20px\", \"backgroundColor\": \"#ffffff\", \"height\": \"400px\"}), width=9)\n",
    "    ], style={\"marginBottom\": \"30px\"}),\n",
    "\n",
    "    \n",
    "     # Word clouds and news section\n",
    "    dbc.Row([\n",
    "        dbc.Col(html.Div([\n",
    "            html.H5(\"금융 뉴스 키워드\", style={\"textAlign\": \"center\", \"marginBottom\": \"15px\", \"fontWeight\": \"bold\", \"fontSize\": \"24px\", \"color\": \"#008485\", \"padding\": \"10px 0\"}),\n",
    "            html.Img(src=f\"/assets/finance_wc.png\", style={\"width\": \"90%\", \"height\": \"500px\", \"borderRadius\": \"10px\", \"margin\": \"0 auto\", \"display\": \"block\"})\n",
    "        ], style={\"height\": \"600px\", \"border\": \"1px solid #d3d3d3\", \"borderRadius\": \"10px\", \"backgroundColor\": \"#ffffff\", \"padding\": \"20px\"})),\n",
    "        dbc.Col(html.Div([\n",
    "            html.H5(\"경제 뉴스 키워드\", style={\"textAlign\": \"center\", \"marginBottom\": \"15px\", \"fontWeight\": \"bold\", \"fontSize\": \"24px\", \"color\": \"#008485\", \"padding\": \"10px 0\"}),\n",
    "            html.Img(src=f\"/assets/economy_wc.png\", style={\"width\": \"90%\", \"height\": \"500px\", \"borderRadius\": \"10px\", \"margin\": \"0 auto\", \"display\": \"block\"})\n",
    "        ], style={\"height\": \"600px\", \"border\": \"1px solid #d3d3d3\", \"borderRadius\": \"10px\", \"backgroundColor\": \"#ffffff\", \"padding\": \"20px\"})),\n",
    "        dbc.Col(html.Div([\n",
    "            html.H5(\"산업 뉴스 키워드\", style={\"textAlign\": \"center\", \"marginBottom\": \"15px\", \"fontWeight\": \"bold\", \"fontSize\": \"24px\", \"color\": \"#008485\", \"padding\": \"10px 0\"}),\n",
    "            html.Img(src=f\"/assets/industry_wc.png\", style={\"width\": \"90%\", \"height\": \"500px\", \"borderRadius\": \"10px\", \"margin\": \"0 auto\", \"display\": \"block\"})\n",
    "        ], style={\"height\": \"600px\", \"border\": \"1px solid #d3d3d3\", \"borderRadius\": \"10px\", \"backgroundColor\": \"#ffffff\", \"padding\": \"20px\"}))\n",
    "    ], style={\"marginBottom\": \"30px\"})\n",
    "    \n",
    "#     ,\n",
    "\n",
    "#     # News search system\n",
    "#     html.Div(\"뉴스 검색 시스템\", style={\n",
    "#         \"textAlign\": \"center\", \"fontSize\": \"20px\", \"color\": \"#212529\", \"border\": \"1px solid #d3d3d3\",\n",
    "#         \"borderRadius\": \"10px\", \"height\": \"100px\", \"lineHeight\": \"100px\", \"backgroundColor\": \"#ffffff\"\n",
    "#     })\n",
    "])\n",
    "\n",
    "\n",
    "# Callbacks\n",
    "@app.callback(\n",
    "    [Output('gender', 'value'),\n",
    "     Output('family', 'value'),\n",
    "     Output('age', 'value'),\n",
    "     Output('job', 'value'),\n",
    "     Output('category', 'value'),  # Added output for category reset\n",
    "     Output('filtered-data', 'data')],\n",
    "    [Input('filter-btn', 'n_clicks'),\n",
    "     Input('reset-btn1', 'n_clicks')],\n",
    "    [State('gender', 'value'),\n",
    "     State('family', 'value'),\n",
    "     State('age', 'value'),\n",
    "     State('job', 'value'),\n",
    "     State('category', 'value')]  # Added state for category\n",
    ")\n",
    "def manage_filters(filter_clicks, reset_clicks, gender, family, age, job, category):\n",
    "    ctx = dash.callback_context\n",
    "\n",
    "    if not ctx.triggered:\n",
    "        raise dash.exceptions.PreventUpdate\n",
    "\n",
    "    triggered_id = ctx.triggered[0]['prop_id'].split('.')[0]\n",
    "\n",
    "    # Reset button clicked\n",
    "    if triggered_id == 'reset-btn1':\n",
    "        return None, None, None, None, None, []  # Reset category as well\n",
    "        \n",
    "    # Filter button clicked\n",
    "    if triggered_id == 'filter-btn':\n",
    "        filtered = df.copy()\n",
    "        if gender:\n",
    "            filtered = filtered[filtered['Gender'] == gender]\n",
    "        if family:\n",
    "            filtered = filtered[filtered['Family'] == family]\n",
    "        if age:\n",
    "            filtered = filtered[filtered['연령대'] == f\"{int(age // 10) * 10}대\"]\n",
    "        if job:\n",
    "            filtered = filtered[filtered['Job'] == job]\n",
    "        return gender, family, age, job, category, filtered.to_dict('records')\n",
    "\n",
    "    \n",
    "# Callbacks\n",
    "@app.callback(\n",
    "    [Output('chart-container-1', 'children'),\n",
    "     Output('chart-container-2', 'children')],\n",
    "    [Input('filtered-data', 'data'),\n",
    "     Input('category', 'value'),\n",
    "     Input('reset-btn1', 'n_clicks')]\n",
    ")\n",
    "def update_charts(filtered_data, selected_category, reset_clicks):\n",
    "    ctx = dash.callback_context\n",
    "\n",
    "    if not ctx.triggered:\n",
    "        default_message1 = html.Div(\n",
    "            \"고객 정보를 입력하고 상품 계약 패턴을 확인하세요\",\n",
    "            style={\"textAlign\": \"center\", \"lineHeight\": \"400px\", \"color\": \"#6c757d\", \"fontFamily\": \"Segoe UI\", \"backgroundColor\": \"rgba(0,0,0,0)\"}\n",
    "        )\n",
    "        default_message2 = html.Div(\n",
    "            \"고객 정보와 상품 종류를 입력하고 상품 계약 패턴을 확인하세요\",\n",
    "            style={\"textAlign\": \"center\", \"lineHeight\": \"400px\", \"color\": \"#6c757d\", \"fontFamily\": \"Segoe UI\", \"backgroundColor\": \"rgba(0,0,0,0)\"}\n",
    "        )\n",
    "        return default_message1, default_message2\n",
    "\n",
    "    triggered_id = ctx.triggered[0]['prop_id'].split('.')[0]\n",
    "\n",
    "    if triggered_id == 'reset-btn1':\n",
    "        reset_message1 = html.Div(\n",
    "            \"초기화되었습니다. 고객 정보를 다시 입력하세요\",\n",
    "            style={\"textAlign\": \"center\", \"lineHeight\": \"400px\", \"color\": \"#6c757d\", \"fontFamily\": \"Segoe UI\", \"backgroundColor\": \"rgba(0,0,0,0)\"}\n",
    "        )\n",
    "        reset_message2 = html.Div(\n",
    "            \"초기화되었습니다. 고객 정보와 상품 종류를 다시 입력하세요\",\n",
    "            style={\"textAlign\": \"center\", \"lineHeight\": \"400px\", \"color\": \"#6c757d\", \"fontFamily\": \"Segoe UI\", \"backgroundColor\": \"rgba(0,0,0,0)\"}\n",
    "        )\n",
    "        return reset_message1, reset_message2\n",
    "\n",
    "    if not filtered_data:\n",
    "        no_data_message1 = html.Div(\n",
    "            \"선택한 고객 정보에 해당하는 데이터가 없습니다\",\n",
    "            style={\"textAlign\": \"center\", \"lineHeight\": \"400px\", \"color\": \"#6c757d\", \"fontFamily\": \"Segoe UI\", \"backgroundColor\": \"rgba(0,0,0,0)\"}\n",
    "        )\n",
    "        no_data_message2 = html.Div(\n",
    "            \"선택한 고객 정보와 상품 종류에 해당하는 데이터가 없습니다\",\n",
    "            style={\"textAlign\": \"center\", \"lineHeight\": \"400px\", \"color\": \"#6c757d\", \"fontFamily\": \"Segoe UI\", \"backgroundColor\": \"rgba(0,0,0,0)\"}\n",
    "        )\n",
    "        return no_data_message1, no_data_message2\n",
    "\n",
    "    filtered_df = pd.DataFrame(filtered_data)\n",
    "\n",
    "    # Pie Chart of 상품종류\n",
    "    pie_chart = px.pie(\n",
    "        filtered_df,\n",
    "        names='상품종류',\n",
    "        color_discrete_sequence=[\"#004D40\", \"#00796B\", \"#009688\", \"#4DB6AC\", \"#80CBC4\"]\n",
    "    )\n",
    "    pie_chart.update_layout(\n",
    "        plot_bgcolor=\"rgba(0,0,0,0)\",\n",
    "        paper_bgcolor=\"rgba(0,0,0,0)\",\n",
    "        title_font=dict(size=22, color=\"#008485\", family=\"Segoe UI\"),\n",
    "        font=dict(family=\"Segoe UI\", size=18),\n",
    "        legend=dict(font=dict(family=\"Segoe UI\", size=16))\n",
    "    )\n",
    "\n",
    "    # If no category is selected, display\n",
    "    if not selected_category:\n",
    "        no_selection_message = html.Div(\n",
    "            \"상품 종류를 선택하십시오\",\n",
    "            style={\"textAlign\": \"center\", \"lineHeight\": \"400px\", \"color\": \"#6c757d\", \"fontFamily\": \"Segoe UI\", \"backgroundColor\": \"rgba(0,0,0,0)\"}\n",
    "        )\n",
    "        return dcc.Graph(figure=pie_chart, style={\"width\": \"100%\", \"height\": \"100%\", \"overflow\": \"hidden\"}, config={\"responsive\": True}), no_selection_message\n",
    "\n",
    "    # Bar Chart of selected 상품종류\n",
    "    filtered_df = filtered_df[filtered_df['상품종류'] == selected_category]\n",
    "\n",
    "    if filtered_df.empty:\n",
    "        no_data_message2 = html.Div(\n",
    "            \"선택한 고객 정보와 상품 종류에 해당하는 데이터가 없습니다\",\n",
    "            style={\"textAlign\": \"center\", \"lineHeight\": \"400px\", \"color\": \"#6c757d\", \"fontFamily\": \"Segoe UI\", \"backgroundColor\": \"rgba(0,0,0,0)\"}\n",
    "        )\n",
    "        return dcc.Graph(figure=pie_chart, style={\"width\": \"100%\", \"height\": \"100%\", \"overflow\": \"hidden\"}, config={\"responsive\": True}), no_data_message2\n",
    "\n",
    "    bar_data = filtered_df.groupby('상품명').size().reset_index(name='count')\n",
    "    bar_data = bar_data.nlargest(7, 'count')  # 상위 5개 항목만 선택\n",
    "\n",
    "    bar_chart = px.bar(\n",
    "        bar_data,\n",
    "        x='상품명',\n",
    "        y='count',\n",
    "        color='상품명',\n",
    "        color_discrete_sequence=[\"#004D40\", \"#00796B\", \"#009688\", \"#4DB6AC\", \"#80CBC4\"]\n",
    "    )\n",
    "    bar_chart.update_layout(\n",
    "        plot_bgcolor=\"rgba(0,0,0,0)\",\n",
    "        paper_bgcolor=\"rgba(0,0,0,0)\",\n",
    "        title_font=dict(size=22, color=\"#008485\", family=\"Segoe UI\"),\n",
    "        font=dict(family=\"Segoe UI\", size=16),\n",
    "        xaxis=dict(title=\"상품\", title_font=dict(size=14), tickfont=dict(size=16), showgrid=True, showticklabels=False),\n",
    "        yaxis=dict(title=\"빈도수\", title_font=dict(size=14), tickfont=dict(size=16), showgrid=True),\n",
    "        legend=dict(title=\"상품명\", title_font=dict(size=16),font=dict(size=14))\n",
    "    )\n",
    "\n",
    "    return (\n",
    "        dcc.Graph(figure=pie_chart, style={\"width\": \"100%\", \"height\": \"100%\", \"overflow\": \"hidden\"}, config={\"responsive\": True}),\n",
    "        dcc.Graph(figure=bar_chart, style={\"width\": \"100%\", \"height\": \"95%\", \"overflow\": \"hidden\"}, config={\"responsive\": True})\n",
    "    )\n",
    "\n",
    "\n",
    "# 콜백\n",
    "@app.callback(\n",
    "    [Output(\"result-table\", \"children\"),\n",
    "     Output(\"keyword1\", \"value\"),\n",
    "     Output(\"keyword2\", \"value\"),\n",
    "     Output(\"keyword3\", \"value\")],\n",
    "    [Input(\"recommend-btn\", \"n_clicks\"),\n",
    "     Input(\"reset-btn2\", \"n_clicks\")],\n",
    "    [State(\"keyword1\", \"value\"), State(\"keyword2\", \"value\"), State(\"keyword3\", \"value\")]\n",
    ")\n",
    "def update_table(recommend_clicks, reset_clicks, keyword1, keyword2, keyword3):\n",
    "    ctx = dash.callback_context\n",
    "    if not ctx.triggered:\n",
    "        return html.Div(\n",
    "            \"키워드를 선택하고 상품을 추천받으세요\",\n",
    "            style={\"textAlign\": \"center\", \"lineHeight\": \"300px\", \"color\": \"#6c757d\", \"fontFamily\": \"Segoe UI\", \"backgroundColor\": \"rgba(0,0,0,0)\"}\n",
    "        ), None, None, None\n",
    "\n",
    "    triggered_id = ctx.triggered[0][\"prop_id\"].split(\".\")[0]\n",
    "\n",
    "    if triggered_id == \"reset-btn2\":\n",
    "        # Reset all dropdown values and clear the table\n",
    "        return html.Div(\n",
    "            \"초기화되었습니다. 키워드를 다시 선택하세요\",\n",
    "            style={\"textAlign\": \"center\", \"lineHeight\": \"300px\", \"color\": \"#6c757d\", \"fontFamily\": \"Segoe UI\", \"backgroundColor\": \"rgba(0,0,0,0)\"}\n",
    "        ), None, None, None\n",
    "\n",
    "    if triggered_id == \"recommend-btn\":\n",
    "        selected_keywords = [keyword for keyword in [keyword1, keyword2, keyword3] if keyword]\n",
    "        if not selected_keywords:\n",
    "            return html.Div(\n",
    "                \"최소한 하나의 키워드를 선택해야 합니다\",\n",
    "                style={\"textAlign\": \"center\", \"lineHeight\": \"300px\", \"color\": \"#6c757d\", \"fontFamily\": \"Segoe UI\", \"backgroundColor\": \"rgba(0,0,0,0)\"}\n",
    "            ), keyword1, keyword2, keyword3\n",
    "\n",
    "        # 키워드 값이 0보다 큰 상품 필터링\n",
    "        filtered_df = df_tfidf_join[df_tfidf_join[selected_keywords].sum(axis=1) > 0]\n",
    "        filtered_df = filtered_df.drop(columns=column_li)\n",
    "\n",
    "        if filtered_df.empty:\n",
    "            return html.Div(\n",
    "                \"선택한 키워드에 해당하는 상품이 없습니다\",\n",
    "                style={\"textAlign\": \"left\", \"marginBottom\": \"0px\", \"fontWeight\": \"bold\", \"fontSize\": \"16px\", \"color\": \"#6c757d\"}\n",
    "            ), keyword1, keyword2, keyword3\n",
    "\n",
    "        # 데이터 테이블 생성\n",
    "        table = dash_table.DataTable(\n",
    "            columns=[{\"name\": col, \"id\": col} for col in filtered_df.columns],\n",
    "            data=filtered_df.to_dict(\"records\"),\n",
    "            style_table={\n",
    "                \"maxHeight\": \"320px\",  # 컨테이너 최대 높이 고정\n",
    "                \"overflowY\": \"auto\",  # 세로 스크롤바 추가\n",
    "                \"border\": \"1px solid #d3d3d3\"\n",
    "            },\n",
    "            style_cell={\n",
    "                \"textAlign\": \"center\",\n",
    "                \"fontFamily\": \"Segoe UI\",\n",
    "                \"fontSize\": \"14px\",\n",
    "                \"padding\": \"10px\"\n",
    "            },\n",
    "            style_header={\n",
    "                \"fontWeight\": \"bold\",\n",
    "                \"backgroundColor\": \"#008485\",\n",
    "                \"color\": \"white\"\n",
    "            },\n",
    "            style_data_conditional=[\n",
    "                {\"if\": {\"row_index\": \"odd\"}, \"backgroundColor\": \"#f8f9fa\"}\n",
    "            ]\n",
    "        )\n",
    "        return table, keyword1, keyword2, keyword3\n",
    "\n",
    "\n",
    "\n",
    "# # Run the App\n",
    "# if __name__ == '__main__':\n",
    "#     app.run_server(debug=True)\n",
    "\n",
    "if __name__ == '__main__':\n",
    "    app.run_server(host = '172.16.20.103', port = 8050, debug=False, jupyter_mode='external')\n",
    "    # app.run_server(host = '0.0.0.0', port = 8050, debug=False, jupyter_mode='external')\n"
   ]
  },
  {
   "cell_type": "code",
   "execution_count": null,
   "id": "4f4b7938-6d29-4d7f-afea-9f30f5e2f21a",
   "metadata": {
    "tags": []
   },
   "outputs": [],
   "source": [
    "if __name__ == '__main__':\n",
    "    app.run_server( jupyter_mode = 'external')\n",
    "    \n",
    "# http://192.168.0.3:8050/"
   ]
  },
  {
   "cell_type": "markdown",
   "id": "675c629d-78cd-4053-a1ba-de9aecae6026",
   "metadata": {},
   "source": [
    "---"
   ]
  }
 ],
 "metadata": {
  "kernelspec": {
   "display_name": "Python 3 (ipykernel)",
   "language": "python",
   "name": "python3"
  },
  "language_info": {
   "codemirror_mode": {
    "name": "ipython",
    "version": 3
   },
   "file_extension": ".py",
   "mimetype": "text/x-python",
   "name": "python",
   "nbconvert_exporter": "python",
   "pygments_lexer": "ipython3",
   "version": "3.11.7"
  }
 },
 "nbformat": 4,
 "nbformat_minor": 5
}
